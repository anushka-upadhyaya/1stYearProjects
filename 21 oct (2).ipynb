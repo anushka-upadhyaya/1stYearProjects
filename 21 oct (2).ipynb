{
  "cells": [
    {
      "metadata": {
        "trusted": true
      },
      "cell_type": "code",
      "source": "def single_insert_or_delete(a,b):\n    c=0\n    a=a.lower()\n    b=b.lower()\n    if a==b:\n        return 0\n    if(len(a)==len(b)):\n        for i in range(len(a)):\n            if(a[i]!=b[i]):\n                c+=1\n        if(c==1):\n            return 1\n        else:\n            return 2\n            \n    if(len(a)==len(b)+1):\n        if(b in a):\n            return 1\n        else:\n            for i in range(len(a)):\n                if (b == a[:i]+a[i+1:]):\n                    return 1\n    if(len(b)==len(a)+1):\n        if(a in b):\n            return 1\n        else:\n            for i in range(len(b)):\n                if (a == b[:i]+b[i+1:]):\n                    return 1\n                \n    return 2\n\n\nfilename = \"Correct_spelled.txt\"\ncorrect_spelled = []\nfobj = open(filename, \"r\")\nfor line in fobj:\n    correct_spelled.append(line.split(','))\nfobj.close()\ncorrect_spelled = correct_spelled[0]\n\nres = \"\"\nfilename = \"Original.txt\"\nfobj = open(filename, \"r\")\ntests = fobj.readline()\nprint(tests)\nsent = tests.split('.')\nfor s in sent:\n    w = []\n    w.append(s.split(' '))\n    w = w[0]\n    cnt=0\n    for i in w:\n        for j in correct_spelled:\n            if(single_insert_or_delete(i,j) == 1):\n                w[cnt] = j\n        cnt+=1\n    res+= ' '.join(w)+'.'\n    \nprint(res)",
      "execution_count": 44,
      "outputs": [
        {
          "output_type": "stream",
          "text": "Thes is the Firs cas. programing is fan and eesy.Thes is vary essy. Wee loe Pythen\nthis in the first car. programming in fun and easy.this in very easy. we love python.\n",
          "name": "stdout"
        }
      ]
    }
  ],
  "metadata": {
    "kernelspec": {
      "name": "python36",
      "display_name": "Python 3.6",
      "language": "python"
    },
    "language_info": {
      "mimetype": "text/x-python",
      "nbconvert_exporter": "python",
      "name": "python",
      "pygments_lexer": "ipython3",
      "version": "3.6.6",
      "file_extension": ".py",
      "codemirror_mode": {
        "version": 3,
        "name": "ipython"
      }
    }
  },
  "nbformat": 4,
  "nbformat_minor": 2
}